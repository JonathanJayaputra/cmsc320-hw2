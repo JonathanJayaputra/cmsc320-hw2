{
 "cells": [
  {
   "cell_type": "code",
   "execution_count": 3,
   "metadata": {},
   "outputs": [],
   "source": [
    "import pandas as pd\n",
    "import numpy as np\n",
    "import matplotlib.pyplot as plt"
   ]
  },
  {
   "cell_type": "code",
   "execution_count": 4,
   "metadata": {},
   "outputs": [],
   "source": [
    "# fardina has a priming question before the AITA questions\n",
    "\n",
    "df1 = pd.read_csv('data/max_spring2025.csv')\n",
    "df2 = pd.read_csv('data/max_all.csv')\n",
    "df3 = pd.read_csv('data/fardina_all.csv')\n",
    "df4 = pd.read_csv('data/2024.csv')"
   ]
  },
  {
   "cell_type": "code",
   "execution_count": 5,
   "metadata": {},
   "outputs": [
    {
     "data": {
      "text/plain": [
       "Index(['Timestamp', 'What year are you?', 'How old are you?',\n",
       "       'You could describe the adults you grew up with as...',\n",
       "       'You could describe yourself as...',\n",
       "       'How would you rate your religiousness?',\n",
       "       'What bests represents your gender?',\n",
       "       'My boyfriend is a doctor. Lately he's been complaining about pain in his right knee and constantly taking TONS of ibuprofen to treat (like 15-20 pills a day). However, it's only gotten worse. I've told him he needs to see someone about it but he told me it was fine. So I told him that if this is how he treats herself, I'd be concerned about being his patient. He was shocked and told me that was uncalled for. Am I a jerk?',\n",
       "       'My son is getting married soon. Due to a complicated past, we've only just met recently. We've been building a relationship the last few years though and I am lucky to have him in my life now. Recently, he asked me to do a reading with his father while I am honored I told him no. His step-mother practically raised him from a baby and I think that she deserves it far more than me. He was really upset and hurt when I said no. Am I a jerk?',\n",
       "       'I'm a trust fund kid; I get a healthy 'allowance' from my parents, but I mostly sock it away since I don't really feel like I deserve it. I live with my boyfriend, who comes from a poor family, and we split things 50-50. Recently, he found out how much money my parents send me each month and freaked out, saying it wasn't fair that I was making him split things 50/50. I told him it was my money, and it only seems fair if we cover half the expenses. Am I a jerk?',\n",
       "       'My husband and I have separate finances, but I pay for almost everything. My son starts school next year, and I'm planning on sending him to a private school. My husband's son currently goes to a much less nice public school. My husband says I'm a jerk for not paying for his son to go to private school as well.',\n",
       "       'I saw a poster for a lost cat advertising a 500 dollar reward. I saw the cat, tracked it down, and called the owner. When I met with them, they said there wasn't actually a reward, they had just listed one because they thought it would motivate people to find the cat. I kept the cat until they coughed up the reward money. Am I a jerk?',\n",
       "       'My brother's nine year old son is poorly behaved. One day, my brother dropped the son off on my doorstep without my consent and drove off, texting me that he needed me to watch his son for the day. The son complained of being hungry, so I gave him the leftovers I had. He said he didn't like them, but I told him that's all there was. He put them in the microwave until they burned, then told me he couldn't eat them and we would have to go out and get food. I told him that was what there was to eat, and if he ruined it he'd have to wait for his dad to get back. Later, everyone yelled at me for 'starving' a child. Am I a jerk?',\n",
       "       'My parents want us to come out for their anniversary, and bought my brother and I tickets on the same flight. My brother has two kids - a 6 month old and a 5 year old. He is currently separated from his wife so he would have to handle 2 children by herself on a 10 hour flight.\\n\\nHe calls me up a week or so beforehand and asks me if I will be willing to help him take care of his kids on the flight, and something about taking shifts so we can both sleep. I tell him that I wasn't comfortable with that, but he says \"nephew loves you so much\" so we can work something out on the flight and hangs up.\\n\\nWhen I got to the airport, I chose to upgrade my seat so I could sit by myself and didn't mention it until we were on the plane. My family freaked and told me I abandoned my brother. Am I a jerk?',\n",
       "       'I'm a single dad with four kids, one of whom has a different mother from the other three. I get a lot of child support for one of them, and none for the other 3. 2/3rds of the child support for the eldest go towards his expenses and college fund. The other third goes towards my other children. My friend recently found out and told me it was inappropriate to use the child support intended for the one on the other three. Am I a jerk?',\n",
       "       'I have a child with a father who never wanted anything to do with them. I make enough money to cover my expenses, but I constantly check up on the child's father to make sure he's paying adequate child support. Periodically I either hire an investigator or her dad just tells me he got a raise and I go to court to adjust the child support accordingly. The last time I did this, he didn't show up for court and I apparently overestimated how much his raise was and I got a default judgment. He called me up and practically pleaded with me to lower his payments after I said no he insulted me and my son. Am I a jerk?',\n",
       "       'One of my children wants to go to an expensive school to become a dentist. I told them I'd be fine paying for it. The other one wants to go to a similarly expensive school to become a teacher. I told her that I wouldn't pay for him schooling unless he picked a career path that will make at least 100,000 a year. Am I a jerk?',\n",
       "       'I was in a conflict with my father-in-law's girlfriend, in which I made a snide comment about she's never paid child support to his ex. Later, she called me and told me if I ever said anything like that ever again she'd sue me for defamation. I took the threat seriously, as she is a lawyer, and uninvited him for our wedding and told my family I couldn't be around him anymore. Am I a jerk?',\n",
       "       'Some of my relatives refuse to come to my wedding, since they don't approve of our 'lifestyle'. I would like to donate the money I will save to an LBGTQ organization in their name. I’m hoping that I or the organization will be able to send them a receipt/thank you for the donation. Would I be a jerk?',\n",
       "       'My wife has decided that since she can’t drink because she is pregnant that I can’t either. I planned to take my annual leave from work to take us (and pay for) a trip abroad. I asked my wife would the drinking rule still be in effect and she said of course. I’ve now decided I won’t be paying for us to take this trip. Am I jerk?',\n",
       "       'My brother is going to be a groomsman at my wedding. His hair was dyed, but he recently decided to grow it out, so parts of it are bleached and part are not. I told him it wouldn't look good in the pictures, and offered to pay for him to dye it. He said no, and I said he couldn't be in the wedding party. Am I a jerk?'],\n",
       "      dtype='object')"
      ]
     },
     "execution_count": 5,
     "metadata": {},
     "output_type": "execute_result"
    }
   ],
   "source": [
    "df1.columns"
   ]
  },
  {
   "cell_type": "code",
   "execution_count": 6,
   "metadata": {},
   "outputs": [],
   "source": [
    "#exact phrasings for df1 questions\n",
    "questions = [\n",
    "    'Timestamp', \n",
    "    'What year are you?', \n",
    "    'How old are you?',\n",
    "       'You could describe the adults you grew up with as...',\n",
    "       'You could describe yourself as...',\n",
    "       'How would you rate your religiousness?',\n",
    "       'What bests represents your gender?',\n",
    "      \"My boyfriend is a doctor. Lately he's been complaining about pain in his right knee and constantly taking TONS of ibuprofen to treat (like 15-20 pills a day). However, it's only gotten worse. I've told him he needs to see someone about it but he told me it was fine. So I told him that if this is how he treats herself, I'd be concerned about being his patient. He was shocked and told me that was uncalled for. Am I a jerk?\",\n",
    "       \"My son is getting married soon. Due to a complicated past, we've only just met recently. We've been building a relationship the last few years though and I am lucky to have him in my life now. Recently, he asked me to do a reading with his father while I am honored I told him no. His step-mother practically raised him from a baby and I think that she deserves it far more than me. He was really upset and hurt when I said no. Am I a jerk?'\",\n",
    "       \"I'm a trust fund kid; I get a healthy 'allowance' from my parents, but I mostly sock it away since I don't really feel like I deserve it. I live with my boyfriend, who comes from a poor family, and we split things 50-50. Recently, he found out how much money my parents send me each month and freaked out, saying it wasn't fair that I was making him split things 50/50. I told him it was my money, and it only seems fair if we cover half the expenses. Am I a jerk?\",\n",
    "       \"My husband and I have separate finances, but I pay for almost everything. My son starts school next year, and I'm planning on sending him to a private school. My husband's son currently goes to a much less nice public school. My husband says I'm a jerk for not paying for his son to go to private school as well.\",\n",
    "       \"I saw a poster for a lost cat advertising a 500 dollar reward. I saw the cat, tracked it down, and called the owner. When I met with them, they said there wasn't actually a reward, they had just listed one because they thought it would motivate people to find the cat. I kept the cat until they coughed up the reward money. Am I a jerk?\",\n",
    "       \"My brother's nine year old son is poorly behaved. One day, my brother dropped the son off on my doorstep without my consent and drove off, texting me that he needed me to watch his son for the day. The son complained of being hungry, so I gave him the leftovers I had. He said he didn't like them, but I told him that's all there was. He put them in the microwave until they burned, then told me he couldn't eat them and we would have to go out and get food. I told him that was what there was to eat, and if he ruined it he'd have to wait for his dad to get back. Later, everyone yelled at me for 'starving' a child. Am I a jerk?\",\n",
    "       \"My parents want us to come out for their anniversary, and bought my brother and I tickets on the same flight. My brother has two kids - a 6 month old and a 5 year old. He is currently separated from his wife so he would have to handle 2 children by herself on a 10 hour flight.\\n\\nHe calls me up a week or so beforehand and asks me if I will be willing to help him take care of his kids on the flight, and something about taking shifts so we can both sleep. I tell him that I wasn't comfortable with that, but he says 'nephew loves you so much' so we can work something out on the flight and hangs up.\\n\\nWhen I got to the airport, I chose to upgrade my seat so I could sit by myself and didn't mention it until we were on the plane. My family freaked and told me I abandoned my brother. Am I a jerk?\",\n",
    "       \"I'm a single dad with four kids, one of whom has a different mother from the other three. I get a lot of child support for one of them, and none for the other 3. 2/3rds of the child support for the eldest go towards his expenses and college fund. The other third goes towards my other children. My friend recently found out and told me it was inappropriate to use the child support intended for the one on the other three. Am I a jerk?\",\n",
    "       \"I have a child with a father who never wanted anything to do with them. I make enough money to cover my expenses, but I constantly check up on the child's father to make sure he's paying adequate child support. Periodically I either hire an investigator or her dad just tells me he got a raise and I go to court to adjust the child support accordingly. The last time I did this, he didn't show up for court and I apparently overestimated how much his raise was and I got a default judgment. He called me up and practically pleaded with me to lower his payments after I said no he insulted me and my son. Am I a jerk?\",\n",
    "       \"One of my children wants to go to an expensive school to become a dentist. I told them I'd be fine paying for it. The other one wants to go to a similarly expensive school to become a teacher. I told her that I wouldn't pay for him schooling unless he picked a career path that will make at least 100,000 a year. Am I a jerk?\",\n",
    "       \"I was in a conflict with my father-in-law's girlfriend, in which I made a snide comment about she's never paid child support to his ex. Later, she called me and told me if I ever said anything like that ever again she'd sue me for defamation. I took the threat seriously, as she is a lawyer, and uninvited him for our wedding and told my family I couldn't be around him anymore. Am I a jerk?\",\n",
    "       \"Some of my relatives refuse to come to my wedding, since they don't approve of our 'lifestyle'. I would like to donate the money I will save to an LBGTQ organization in their name. I’m hoping that I or the organization will be able to send them a receipt/thank you for the donation. Would I be a jerk?\",\n",
    "       \"My wife has decided that since she can’t drink because she is pregnant that I can’t either. I planned to take my annual leave from work to take us (and pay for) a trip abroad. I asked my wife would the drinking rule still be in effect and she said of course. I’ve now decided I won’t be paying for us to take this trip. Am I jerk?\",\n",
    "       \"My brother is going to be a groomsman at my wedding. His hair was dyed, but he recently decided to grow it out, so parts of it are bleached and part are not. I told him it wouldn't look good in the pictures, and offered to pay for him to dye it. He said no, and I said he couldn't be in the wedding party. Am I a jerk?\",\n",
    "      ]\n",
    "\n",
    "questions_succint = [\n",
    "    \"time\",\n",
    "    \"year\",\n",
    "    \"age\",\n",
    "    \"upbringing\",\n",
    "    \"self\",\n",
    "    \"religion\",\n",
    "    \"gender\",\n",
    "    \"doctor\",\n",
    "    \"reading\",\n",
    "    \"trust fund\",\n",
    "    \"private school\",\n",
    "    \"cat\",\n",
    "    \"burned food\",\n",
    "    \"flight\",\n",
    "    \"child support\",\n",
    "    \"investigation\",\n",
    "    \"expensive school\",\n",
    "    \"in law\",\n",
    "    \"lgbtq\",\n",
    "    \"drinking\",\n",
    "    \"hair dye\",\n",
    "]\n",
    "\n",
    "questions_succint_primer = [\n",
    "    \"time\",\n",
    "    \"year\",\n",
    "    \"age\",\n",
    "    \"upbringing\",\n",
    "    \"self\",\n",
    "    \"religion\",\n",
    "    \"gender\",\n",
    "    \"compassion primer\",\n",
    "    \"doctor\",\n",
    "    \"reading\",\n",
    "    \"trust fund\",\n",
    "    \"private school\",\n",
    "    \"cat\",\n",
    "    \"burned food\",\n",
    "    \"flight\",\n",
    "    \"child support\",\n",
    "    \"investigation\",\n",
    "    \"expensive school\",\n",
    "    \"in law\",\n",
    "    \"lgbtq\",\n",
    "    \"drinking\",\n",
    "    \"hair dye\",\n",
    "]\n",
    "\n",
    "aita_questions = [\n",
    "    \"doctor\",\n",
    "    \"reading\",\n",
    "    \"trust fund\",\n",
    "    \"private school\",\n",
    "    \"cat\",\n",
    "    \"burned food\",\n",
    "    \"flight\",\n",
    "    \"child support\",\n",
    "    \"investigation\",\n",
    "    \"expensive school\",\n",
    "    \"in law\",\n",
    "    \"lgbtq\",\n",
    "    \"drinking\",\n",
    "    \"hair dye\",\n",
    "]"
   ]
  },
  {
   "cell_type": "code",
   "execution_count": 7,
   "metadata": {},
   "outputs": [],
   "source": [
    "df1.columns = questions_succint\n",
    "df2.columns = questions_succint\n",
    "df3.columns = questions_succint_primer\n",
    "df4.columns = questions_succint\n",
    "    "
   ]
  },
  {
   "cell_type": "code",
   "execution_count": 8,
   "metadata": {},
   "outputs": [
    {
     "data": {
      "text/plain": [
       "['doctor numeric',\n",
       " 'reading numeric',\n",
       " 'trust fund numeric',\n",
       " 'private school numeric',\n",
       " 'cat numeric',\n",
       " 'burned food numeric',\n",
       " 'flight numeric',\n",
       " 'child support numeric',\n",
       " 'investigation numeric',\n",
       " 'expensive school numeric',\n",
       " 'in law numeric',\n",
       " 'lgbtq numeric',\n",
       " 'drinking numeric',\n",
       " 'hair dye numeric']"
      ]
     },
     "execution_count": 8,
     "metadata": {},
     "output_type": "execute_result"
    }
   ],
   "source": [
    "# Not a jerk = 0, Mildly a jerk = 1, Strongly a jerk = 2\n",
    "aita_values = [aita_questions[i] + \" numeric\" for i in range(len(aita_questions))] \n",
    "aita_values"
   ]
  },
  {
   "cell_type": "code",
   "execution_count": 9,
   "metadata": {},
   "outputs": [],
   "source": [
    "for i in range(len(aita_questions)):\n",
    "    df1[aita_values[i]] = df1[aita_questions[i]].map({'Not a jerk': 0, 'Mildly a jerk': 1, 'Strongly a jerk': 2})\n",
    "    df2[aita_values[i]] = df2[aita_questions[i]].map({'Not a jerk': 0, 'Mildly a jerk': 1, 'Strongly a jerk': 2})\n",
    "    df3[aita_values[i]] = df3[aita_questions[i]].map({'Not a jerk': 0, 'Mildly a jerk': 1, 'Strongly a jerk': 2})\n",
    "    df4[aita_values[i]] = df4[aita_questions[i]].map({'Not a jerk': 0, 'Mildly a jerk': 1, 'Strongly a jerk': 2})"
   ]
  },
  {
   "cell_type": "code",
   "execution_count": 10,
   "metadata": {},
   "outputs": [],
   "source": [
    "df1[\"age\"] = df1[\"age\"].fillna(df1[\"age\"].mode())"
   ]
  },
  {
   "cell_type": "code",
   "execution_count": 11,
   "metadata": {},
   "outputs": [],
   "source": [
    "df_age = df1[df1[\"age\"] != \"50+\"]\n"
   ]
  },
  {
   "cell_type": "code",
   "execution_count": 12,
   "metadata": {},
   "outputs": [
    {
     "name": "stderr",
     "output_type": "stream",
     "text": [
      "C:\\Users\\jonat\\AppData\\Local\\Temp\\ipykernel_41296\\1181843574.py:1: SettingWithCopyWarning: \n",
      "A value is trying to be set on a copy of a slice from a DataFrame.\n",
      "Try using .loc[row_indexer,col_indexer] = value instead\n",
      "\n",
      "See the caveats in the documentation: https://pandas.pydata.org/pandas-docs/stable/user_guide/indexing.html#returning-a-view-versus-a-copy\n",
      "  df_age[\"age numeric\"] = df_age[\"age\"].astype(float)\n"
     ]
    }
   ],
   "source": [
    "df_age[\"age numeric\"] = df_age[\"age\"].astype(float)"
   ]
  },
  {
   "cell_type": "code",
   "execution_count": 13,
   "metadata": {},
   "outputs": [
    {
     "data": {
      "image/png": "[encoded data removed]",
      "text/plain": [
       "<Figure size 640x480 with 1 Axes>"
      ]
     },
     "metadata": {},
     "output_type": "display_data"
    }
   ],
   "source": [
    "\n",
    "fig, ax = plt.subplots()\n",
    "\n",
    "df_age.plot(kind='scatter', x='age numeric', y='doctor numeric', color='red', ax=ax, title='ScatterPlot')\n",
    "ax.set_xlabel(\"age\")\n",
    "ax.set_ylabel(\"doctor\")\n",
    "\n",
    "plt.show()"
   ]
  },
  {
   "cell_type": "code",
   "execution_count": 14,
   "metadata": {},
   "outputs": [
    {
     "data": {
      "text/plain": [
       "age  doctor numeric\n",
       "17   0.0                1\n",
       "18   0.0                3\n",
       "     1.0                2\n",
       "19   1.0               19\n",
       "     0.0               11\n",
       "     2.0                1\n",
       "20   1.0               38\n",
       "     0.0               20\n",
       "     2.0                6\n",
       "21   1.0               16\n",
       "     0.0                9\n",
       "22   1.0                2\n",
       "23   1.0                3\n",
       "     0.0                2\n",
       "24   2.0                1\n",
       "25   1.0                2\n",
       "28   1.0                1\n",
       "29   1.0                1\n",
       "50+  2.0                1\n",
       "Name: count, dtype: int64"
      ]
     },
     "execution_count": 14,
     "metadata": {},
     "output_type": "execute_result"
    }
   ],
   "source": [
    "df3.groupby(\"age\")[\"doctor numeric\"].value_counts()"
   ]
  },
  {
   "cell_type": "code",
   "execution_count": 15,
   "metadata": {},
   "outputs": [
    {
     "data": {
      "text/plain": [
       "'\\nthings to look into:\\n\\ndoes previous answer affect next answer\\n    fardina uses priming question\\n    \\ndoes spirituality affect answers\\ndoes upbringing affect answers  \\ndoes year affect answers\\ndoes gender affect answers\\n\\nis there some combination of two + factors that affect answers\\n\\n\\n'"
      ]
     },
     "execution_count": 15,
     "metadata": {},
     "output_type": "execute_result"
    }
   ],
   "source": [
    "\"\"\"\n",
    "things to look into:\n",
    "\n",
    "does previous answer affect next answer\n",
    "    fardina uses priming question\n",
    "    \n",
    "does spirituality affect answers\n",
    "does upbringing affect answers  \n",
    "does year affect answers\n",
    "does gender affect answers\n",
    "\n",
    "is there some combination of two + factors that affect answers\n",
    "\n",
    "\n",
    "\"\"\""
   ]
  },
  {
   "cell_type": "code",
   "execution_count": 26,
   "metadata": {},
   "outputs": [],
   "source": [
    "for i in range(len(aita_values) - 1):\n",
    "    df1[aita_values[i+1] + \" \" + aita_values[i]] = df1[aita_values[i+1]] - df1[aita_values[i]]\n"
   ]
  },
  {
   "cell_type": "code",
   "execution_count": null,
   "metadata": {},
   "outputs": [
    {
     "name": "stdout",
     "output_type": "stream",
     "text": [
      "reading numeric doctor numeric\n",
      " 0.0    36\n",
      " 1.0    31\n",
      "-1.0    19\n",
      " 2.0     3\n",
      "-2.0     3\n",
      "Name: count, dtype: int64\n",
      "trust fund numeric reading numeric\n",
      " 0.0    36\n",
      "-1.0    21\n",
      " 1.0    21\n",
      " 2.0     8\n",
      "-2.0     6\n",
      "Name: count, dtype: int64\n",
      "private school numeric trust fund numeric\n",
      " 0.0    45\n",
      "-1.0    21\n",
      " 1.0    14\n",
      "-2.0     8\n",
      " 2.0     4\n",
      "Name: count, dtype: int64\n",
      "cat numeric private school numeric\n",
      " 0.0    39\n",
      " 1.0    31\n",
      "-1.0    12\n",
      " 2.0     8\n",
      "-2.0     1\n",
      "Name: count, dtype: int64\n",
      "burned food numeric cat numeric\n",
      " 0.0    38\n",
      "-1.0    27\n",
      " 1.0    13\n",
      "-2.0    11\n",
      " 2.0     1\n",
      "Name: count, dtype: int64\n",
      "flight numeric burned food numeric\n",
      " 1.0    35\n",
      " 0.0    30\n",
      " 2.0    18\n",
      "-1.0     5\n",
      "-2.0     2\n",
      "Name: count, dtype: int64\n",
      "child support numeric flight numeric\n",
      "-1.0    33\n",
      "-2.0    21\n",
      " 0.0    17\n",
      " 2.0     9\n",
      " 1.0     7\n",
      "Name: count, dtype: int64\n",
      "investigation numeric child support numeric\n",
      " 0.0    33\n",
      " 1.0    22\n",
      " 2.0    13\n",
      "-1.0    12\n",
      "-2.0     5\n",
      "Name: count, dtype: int64\n",
      "expensive school numeric investigation numeric\n",
      " 0.0    29\n",
      " 1.0    26\n",
      "-1.0    14\n",
      " 2.0    11\n",
      "-2.0     7\n",
      "Name: count, dtype: int64\n",
      "in law numeric expensive school numeric\n",
      " 0.0    30\n",
      "-1.0    23\n",
      " 1.0    19\n",
      "-2.0    14\n",
      " 2.0     1\n",
      "Name: count, dtype: int64\n",
      "lgbtq numeric in law numeric\n",
      " 0.0    38\n",
      "-1.0    19\n",
      " 1.0    12\n",
      "-2.0    11\n",
      " 2.0     6\n",
      "Name: count, dtype: int64\n",
      "drinking numeric lgbtq numeric\n",
      " 1.0    31\n",
      " 2.0    29\n",
      " 0.0    20\n",
      "-1.0     6\n",
      "-2.0     4\n",
      "Name: count, dtype: int64\n",
      "hair dye numeric drinking numeric\n",
      " 0.0    34\n",
      "-1.0    24\n",
      " 1.0    19\n",
      "-2.0    11\n",
      " 2.0     3\n",
      "Name: count, dtype: int64\n"
     ]
    }
   ],
   "source": [
    "for i in range(len(aita_values) - 1):\n",
    "    print(df1[aita_values[i+1] + \" \" + aita_values[i]].value_counts())\n",
    "\n",
    "# why do these all look so similar? ~40, 35, 15 "
   ]
  },
  {
   "cell_type": "code",
   "execution_count": 34,
   "metadata": {},
   "outputs": [
    {
     "name": "stdout",
     "output_type": "stream",
     "text": [
      "doctor numeric  reading numeric doctor numeric\n",
      "0.0              0.0                              24\n",
      "                 1.0                              25\n",
      "                 2.0                               3\n",
      "1.0             -1.0                              18\n",
      "                 0.0                              11\n",
      "                 1.0                               6\n",
      "2.0             -2.0                               3\n",
      "                -1.0                               1\n",
      "                 0.0                               1\n",
      "Name: count, dtype: int64\n",
      "reading numeric  trust fund numeric reading numeric\n",
      "0.0               0.0                                  24\n",
      "                  1.0                                  13\n",
      "                  2.0                                   8\n",
      "1.0              -1.0                                  18\n",
      "                  0.0                                  11\n",
      "                  1.0                                   8\n",
      "2.0              -2.0                                   6\n",
      "                 -1.0                                   3\n",
      "                  0.0                                   1\n",
      "Name: count, dtype: int64\n",
      "trust fund numeric  private school numeric trust fund numeric\n",
      "0.0                  0.0                                         34\n",
      "                     1.0                                         10\n",
      "                     2.0                                          4\n",
      "1.0                 -1.0                                         16\n",
      "                     0.0                                          7\n",
      "                     1.0                                          4\n",
      "2.0                 -2.0                                          8\n",
      "                    -1.0                                          5\n",
      "                     0.0                                          4\n",
      "Name: count, dtype: int64\n",
      "private school numeric  cat numeric private school numeric\n",
      "0.0                      0.0                                  25\n",
      "                         1.0                                  25\n",
      "                         2.0                                   8\n",
      "1.0                     -1.0                                   5\n",
      "                         0.0                                  10\n",
      "                         1.0                                   6\n",
      "2.0                     -2.0                                   1\n",
      "                        -1.0                                   7\n",
      "                         0.0                                   4\n",
      "Name: count, dtype: int64\n",
      "cat numeric  burned food numeric cat numeric\n",
      "0.0           0.0                               22\n",
      "              1.0                                8\n",
      "              2.0                                1\n",
      "1.0          -1.0                               24\n",
      "              0.0                               12\n",
      "              1.0                                5\n",
      "2.0          -2.0                               11\n",
      "             -1.0                                3\n",
      "              0.0                                4\n",
      "Name: count, dtype: int64\n",
      "burned food numeric  flight numeric burned food numeric\n",
      "0.0                   0.0                                  15\n",
      "                      1.0                                  24\n",
      "                      2.0                                  18\n",
      "1.0                  -1.0                                   3\n",
      "                      0.0                                   9\n",
      "                      1.0                                  11\n",
      "2.0                  -2.0                                   2\n",
      "                     -1.0                                   2\n",
      "                      0.0                                   6\n",
      "Name: count, dtype: int64\n",
      "flight numeric  child support numeric flight numeric\n",
      "0.0              0.0                                     6\n",
      "                 1.0                                     4\n",
      "                 2.0                                     9\n",
      "1.0             -1.0                                    22\n",
      "                 0.0                                     8\n",
      "                 1.0                                     3\n",
      "2.0             -2.0                                    21\n",
      "                -1.0                                    11\n",
      "                 0.0                                     3\n",
      "Name: count, dtype: int64\n",
      "child support numeric  investigation numeric child support numeric\n",
      "0.0                     0.0                                           19\n",
      "                        1.0                                           16\n",
      "                        2.0                                           13\n",
      "1.0                    -1.0                                            9\n",
      "                        0.0                                            8\n",
      "                        1.0                                            6\n",
      "2.0                    -2.0                                            5\n",
      "                       -1.0                                            3\n",
      "                        0.0                                            6\n",
      "Name: count, dtype: int64\n",
      "investigation numeric  expensive school numeric investigation numeric\n",
      "0.0                     0.0                                               8\n",
      "                        1.0                                              16\n",
      "                        2.0                                              11\n",
      "1.0                    -1.0                                               8\n",
      "                        0.0                                               9\n",
      "                        1.0                                              10\n",
      "2.0                    -2.0                                               7\n",
      "                       -1.0                                               6\n",
      "                        0.0                                              12\n",
      "Name: count, dtype: int64\n",
      "expensive school numeric  in law numeric expensive school numeric\n",
      "0.0                        0.0                                       10\n",
      "                           1.0                                       12\n",
      "                           2.0                                        1\n",
      "1.0                       -1.0                                       16\n",
      "                           0.0                                        9\n",
      "                           1.0                                        7\n",
      "2.0                       -2.0                                       14\n",
      "                          -1.0                                        7\n",
      "                           0.0                                       11\n",
      "Name: count, dtype: int64\n",
      "in law numeric  lgbtq numeric in law numeric\n",
      "0.0              0.0                            25\n",
      "                 1.0                             8\n",
      "                 2.0                             6\n",
      "1.0             -1.0                            13\n",
      "                 0.0                            11\n",
      "                 1.0                             4\n",
      "2.0             -2.0                            11\n",
      "                -1.0                             6\n",
      "                 0.0                             2\n",
      "Name: count, dtype: int64\n",
      "lgbtq numeric  drinking numeric lgbtq numeric\n",
      "0.0             0.0                               5\n",
      "                1.0                              17\n",
      "                2.0                              29\n",
      "1.0            -1.0                               5\n",
      "                0.0                               8\n",
      "                1.0                              14\n",
      "2.0            -2.0                               4\n",
      "               -1.0                               1\n",
      "                0.0                               7\n",
      "Name: count, dtype: int64\n",
      "drinking numeric  hair dye numeric drinking numeric\n",
      "0.0                0.0                                  4\n",
      "                   1.0                                  7\n",
      "                   2.0                                  3\n",
      "1.0               -1.0                                  6\n",
      "                   0.0                                  8\n",
      "                   1.0                                 12\n",
      "2.0               -2.0                                 11\n",
      "                  -1.0                                 18\n",
      "                   0.0                                 22\n",
      "Name: count, dtype: int64\n"
     ]
    }
   ],
   "source": [
    "# how do people change their answers depending on the previous answer?\n",
    "for i in range(len(aita_values)-1):\n",
    "    print(df1.groupby(aita_values[i])[aita_values[i+1] + \" \" + aita_values[i]].value_counts(sort=False))"
   ]
  },
  {
   "cell_type": "code",
   "execution_count": null,
   "metadata": {},
   "outputs": [],
   "source": [
    "\"\"\"\n",
    "\n",
    "breakdown by what answer they have\n",
    "\"\"\""
   ]
  }
 ],
 "metadata": {
  "kernelspec": {
   "display_name": "Python 3",
   "language": "python",
   "name": "python3"
  },
  "language_info": {
   "codemirror_mode": {
    "name": "ipython",
    "version": 3
   },
   "file_extension": ".py",
   "mimetype": "text/x-python",
   "name": "python",
   "nbconvert_exporter": "python",
   "pygments_lexer": "ipython3",
   "version": "3.12.8"
  }
 },
 "nbformat": 4,
 "nbformat_minor": 2
}
