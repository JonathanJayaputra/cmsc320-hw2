{
  "cells": [
    {
      "cell_type": "markdown",
      "metadata": {
        "id": "2mqkGCa161KJ"
      },
      "source": [
        "# Homework 3 Questions\n",
        "\n",
        "Please answer each of the questions below in the space provided. Copy the noteook, and when you're done, submit as an ipynb file. This will be graded on correctness. Please comment your code to help the grader figure out what you're doing. If you do a hypothesis test, please report all relevant p-values in the text field."
      ]
    },
    {
      "cell_type": "markdown",
      "metadata": {
        "id": "U9ezjr094YOV"
      },
      "source": [
        "Imports and data loading:"
      ]
    },
    {
      "cell_type": "code",
      "execution_count": 2,
      "metadata": {
        "id": "qLP9CqG162Na"
      },
      "outputs": [],
      "source": [
        "import pandas as pd\n",
        "import numpy as np\n",
        "import matplotlib.pyplot as plt\n",
        "import seaborn as sns\n",
        "from scipy.stats import chi2_contingency\n",
        "\n",
        "max23 = pd.read_csv('data/max_all.csv')\n",
        "far23 = pd.read_csv('data/fardina_all.csv')\n",
        "dat24 = pd.read_csv('data/2024.csv')\n",
        "max25 = pd.read_csv('data/max_spring2025.csv')\n",
        "\n",
        "questions_succint = [\n",
        "    \"time\",\n",
        "    \"year\",\n",
        "    \"age\",\n",
        "    \"upbringing\",\n",
        "    \"self\",\n",
        "    \"religion\",\n",
        "    \"gender\",\n",
        "    \"doctor\",\n",
        "    \"reading\",\n",
        "    \"trust fund\",\n",
        "    \"private school\",\n",
        "    \"cat\",\n",
        "    \"burned food\",\n",
        "    \"flight\",\n",
        "    \"child support\",\n",
        "    \"investigation\",\n",
        "    \"expensive school\",\n",
        "    \"in law\",\n",
        "    \"lgbtq\",\n",
        "    \"drinking\",\n",
        "    \"hair dye\",\n",
        "]\n",
        "\n",
        "questions_succint_primer = [\n",
        "    \"time\",\n",
        "    \"year\",\n",
        "    \"age\",\n",
        "    \"upbringing\",\n",
        "    \"self\",\n",
        "    \"religion\",\n",
        "    \"gender\",\n",
        "    \"compassion primer\",\n",
        "    \"doctor\",\n",
        "    \"reading\",\n",
        "    \"trust fund\",\n",
        "    \"private school\",\n",
        "    \"cat\",\n",
        "    \"burned food\",\n",
        "    \"flight\",\n",
        "    \"child support\",\n",
        "    \"investigation\",\n",
        "    \"expensive school\",\n",
        "    \"in law\",\n",
        "    \"lgbtq\",\n",
        "    \"drinking\",\n",
        "    \"hair dye\",\n",
        "]\n",
        "\n",
        "aita_questions = [\n",
        "    \"doctor\",\n",
        "    \"reading\",\n",
        "    \"trust fund\",\n",
        "    \"private school\",\n",
        "    \"cat\",\n",
        "    \"burned food\",\n",
        "    \"flight\",\n",
        "    \"child support\",\n",
        "    \"investigation\",\n",
        "    \"expensive school\",\n",
        "    \"in law\",\n",
        "    \"lgbtq\",\n",
        "    \"drinking\",\n",
        "    \"hair dye\",\n",
        "]\n",
        "\n",
        "max23.columns = questions_succint\n",
        "far23.columns = questions_succint_primer\n",
        "dat24.columns = questions_succint\n",
        "max25.columns = questions_succint\n",
        "\n",
        "personal = [\n",
        "    \"year\",\n",
        "    \"age\",\n",
        "    \"upbringing\",\n",
        "    \"self\",\n",
        "    \"religion\",\n",
        "    \"gender\",\n",
        "]"
      ]
    },
    {
      "cell_type": "markdown",
      "metadata": {
        "id": "fgg8s7O545uh"
      },
      "source": [
        "Data cleaning:"
      ]
    },
    {
      "cell_type": "code",
      "execution_count": 3,
      "metadata": {
        "id": "0Rv9ghnZ47BR"
      },
      "outputs": [
        {
          "name": "stderr",
          "output_type": "stream",
          "text": [
            "C:\\Users\\jonat\\AppData\\Local\\Temp\\ipykernel_72568\\1564923334.py:20: FutureWarning: A value is trying to be set on a copy of a DataFrame or Series through chained assignment using an inplace method.\n",
            "The behavior will change in pandas 3.0. This inplace method will never work because the intermediate object on which we are setting values always behaves as a copy.\n",
            "\n",
            "For example, when doing 'df[col].method(value, inplace=True)', try using 'df.method({col: value}, inplace=True)' or df[col] = df[col].method(value) instead, to perform the operation inplace on the original object.\n",
            "\n",
            "\n",
            "  df[i].fillna(df[i].mode()[0], inplace=True)\n",
            "C:\\Users\\jonat\\AppData\\Local\\Temp\\ipykernel_72568\\1564923334.py:20: FutureWarning: A value is trying to be set on a copy of a DataFrame or Series through chained assignment using an inplace method.\n",
            "The behavior will change in pandas 3.0. This inplace method will never work because the intermediate object on which we are setting values always behaves as a copy.\n",
            "\n",
            "For example, when doing 'df[col].method(value, inplace=True)', try using 'df.method({col: value}, inplace=True)' or df[col] = df[col].method(value) instead, to perform the operation inplace on the original object.\n",
            "\n",
            "\n",
            "  df[i].fillna(df[i].mode()[0], inplace=True)\n",
            "C:\\Users\\jonat\\AppData\\Local\\Temp\\ipykernel_72568\\1564923334.py:20: FutureWarning: A value is trying to be set on a copy of a DataFrame or Series through chained assignment using an inplace method.\n",
            "The behavior will change in pandas 3.0. This inplace method will never work because the intermediate object on which we are setting values always behaves as a copy.\n",
            "\n",
            "For example, when doing 'df[col].method(value, inplace=True)', try using 'df.method({col: value}, inplace=True)' or df[col] = df[col].method(value) instead, to perform the operation inplace on the original object.\n",
            "\n",
            "\n",
            "  df[i].fillna(df[i].mode()[0], inplace=True)\n",
            "C:\\Users\\jonat\\AppData\\Local\\Temp\\ipykernel_72568\\1564923334.py:20: FutureWarning: A value is trying to be set on a copy of a DataFrame or Series through chained assignment using an inplace method.\n",
            "The behavior will change in pandas 3.0. This inplace method will never work because the intermediate object on which we are setting values always behaves as a copy.\n",
            "\n",
            "For example, when doing 'df[col].method(value, inplace=True)', try using 'df.method({col: value}, inplace=True)' or df[col] = df[col].method(value) instead, to perform the operation inplace on the original object.\n",
            "\n",
            "\n",
            "  df[i].fillna(df[i].mode()[0], inplace=True)\n"
          ]
        }
      ],
      "source": [
        "def clean_data(to_clean):\n",
        "    df = to_clean.copy()\n",
        "    \n",
        "    df[\"na_count\"] = df.isna().sum(axis=1)\n",
        "    df = df[df[\"na_count\"] < 4]\n",
        "\n",
        "    df[\"gender\"] = df[\"gender\"].apply(lambda x: x if x != \"Famale\" else \"Female\")\n",
        "\n",
        "    df[\"age\"] = df[\"age\"].apply(lambda x: x if x != \"50+\" else \"50\")\n",
        "\n",
        "    df[\"year\"] = df[\"year\"].apply(lambda x: x if x != \"Sophmore\" else \"Sophomore\")\n",
        "\n",
        "    df[\"age\"] = df[\"age\"].apply(lambda x: str(float(x)))\n",
        "    \n",
        "    df[\"religion\"] = df[\"religion\"].apply(lambda x: x if x != \"Not spiritual at all\" else \"Not religious at all\")\n",
        "    df[\"religion\"] = df[\"religion\"].apply(lambda x: x if x != \"Somewhat spiritual\" else \"Somewhat religious\")\n",
        "    df[\"religion\"] = df[\"religion\"].apply(lambda x: x if x != \"Strongly spiritual\" else \"Strongly religious\")\n",
        "\n",
        "    for i in questions_succint:\n",
        "        df[i].fillna(df[i].mode()[0], inplace=True)\n",
        "\n",
        "    return df\n",
        "\n",
        "\n",
        "max23 = clean_data(max23)\n",
        "far23 = clean_data(far23)\n",
        "dat24 = clean_data(dat24)\n",
        "max25 = clean_data(max25)"
      ]
    },
    {
      "cell_type": "markdown",
      "metadata": {
        "id": "eTFNkOgg6N-q"
      },
      "source": [
        "1. Create a graph telling a story about students political beliefs vs. their parents."
      ]
    },
    {
      "cell_type": "code",
      "execution_count": 4,
      "metadata": {
        "id": "H-vO57xE6zA-"
      },
      "outputs": [
        {
          "data": {
            "image/png": "[encoded data removed]",
            "text/plain": [
              "<Figure size 800x600 with 2 Axes>"
            ]
          },
          "metadata": {},
          "output_type": "display_data"
        }
      ],
      "source": [
        "all = pd.concat([max23,far23,dat24,max25])\n",
        "all_pol = all[all[\"self\"] != \"Don't know / It's complicated\"]\n",
        "all_pol = all_pol[all_pol[\"upbringing\"] != \"Don't know / It's complicated\"]\n",
        "\n",
        "leans = [\"Strongly liberal\", \"Mildly liberal\", \"Neutral\", \"Mildly conservative\", \"Strongly conservative\"]\n",
        "\n",
        "hm_data = pd.crosstab(all_pol[\"self\"], all_pol[\"upbringing\"])\n",
        "\n",
        "leans_rev = leans.copy()\n",
        "leans_rev.reverse()\n",
        "\n",
        "hm_data = hm_data.reindex(index=leans, columns=leans_rev)\n",
        "\n",
        "hm_data_normalized = hm_data.div(hm_data.sum(axis=1), axis=0)\n",
        "\n",
        "plt.figure(figsize=(8, 6))\n",
        "sns.heatmap(hm_data_normalized, annot=True, cmap=\"Blues\", fmt=\".2f\", linewidths=0.5)\n",
        "\n",
        "plt.xticks(rotation=45, ha=\"right\") \n",
        "plt.yticks(rotation=0) \n",
        "\n",
        "plt.xlabel(\"Parents' beliefs\")\n",
        "plt.ylabel(\"Student's beliefs\")\n",
        "\n",
        "plt.show()"
      ]
    },
    {
      "cell_type": "markdown",
      "metadata": {},
      "source": [
        "The above heatmap displays the percent of students with X political leaning whose parents identified with Y political leaning.\n",
        "\n",
        "There are two interesting trends here. One on the anti-diagonal, implying that students of a particular belief are more likely to have parents with the same beliefs. The other is on parents beliefs = \"Mildly conservative,\" which has high proportions compared to other squares, implying that either parents tend to be mildly conservative or students percieve their parents as mildly conservative.\n",
        "\n",
        "Don't know / It's complicated is dropped because it doesn't directly help in drawing conclusions about beliefs."
      ]
    },
    {
      "cell_type": "markdown",
      "metadata": {
        "id": "o1EmTFRI6qRb"
      },
      "source": [
        "2. Show the percent of political beliefs over all the respondants (so the percent of liberals, conservatives, etc)."
      ]
    },
    {
      "cell_type": "code",
      "execution_count": 5,
      "metadata": {
        "id": "6hS9N7d26VoH"
      },
      "outputs": [
        {
          "name": "stdout",
          "output_type": "stream",
          "text": [
            "17.96% of students lean Strongly liberal\n",
            "38.36% of students lean Mildly liberal\n",
            "22.62% of students lean Neutral\n",
            "12.20% of students lean Mildly conservative\n",
            "2.88% of students lean Strongly conservative\n",
            "5.99% of students lean Don't know / It's complicated\n"
          ]
        }
      ],
      "source": [
        "p = all[\"self\"].value_counts() / len(all) * 100\n",
        "leans = [\"Strongly liberal\", \"Mildly liberal\", \"Neutral\", \"Mildly conservative\", \"Strongly conservative\", \"Don't know / It's complicated\"]\n",
        "\n",
        "for i in leans:\n",
        "    print(f\"{p[i]:.2f}% of students lean {i}\")"
      ]
    },
    {
      "cell_type": "markdown",
      "metadata": {
        "id": "goE5p6hn4dQZ"
      },
      "source": [
        "3. Does the priming question have a statistically significant effect on any questions? If so, which ones?"
      ]
    },
    {
      "cell_type": "markdown",
      "metadata": {
        "id": "QCpKr1Au4q2l"
      },
      "source": [
        "Your answer here:"
      ]
    },
    {
      "cell_type": "code",
      "execution_count": 6,
      "metadata": {
        "id": "M-7wQddJ4qMA"
      },
      "outputs": [
        {
          "name": "stdout",
          "output_type": "stream",
          "text": [
            "doctor\n",
            "p value is 0.020811781836627116\n",
            "Dependent (reject H0)\n",
            "\n",
            "reading\n",
            "p value is 0.8928249959907169\n",
            "Independent (H0 holds true)\n",
            "\n",
            "trust fund\n",
            "p value is 0.0074989994754336205\n",
            "Dependent (reject H0)\n",
            "\n",
            "private school\n",
            "p value is 0.4740342379717112\n",
            "Independent (H0 holds true)\n",
            "\n",
            "cat\n",
            "p value is 0.17434631299829817\n",
            "Independent (H0 holds true)\n",
            "\n",
            "burned food\n",
            "p value is 0.8700014240463547\n",
            "Independent (H0 holds true)\n",
            "\n",
            "flight\n",
            "p value is 0.4419259824922178\n",
            "Independent (H0 holds true)\n",
            "\n",
            "child support\n",
            "p value is 0.06359035780103356\n",
            "Independent (H0 holds true)\n",
            "\n",
            "investigation\n",
            "p value is 0.03136107673878985\n",
            "Dependent (reject H0)\n",
            "\n",
            "expensive school\n",
            "p value is 0.5818947486486088\n",
            "Independent (H0 holds true)\n",
            "\n",
            "in law\n",
            "p value is 0.8843830620211782\n",
            "Independent (H0 holds true)\n",
            "\n",
            "lgbtq\n",
            "p value is 0.08536331124686308\n",
            "Independent (H0 holds true)\n",
            "\n",
            "drinking\n",
            "p value is 0.7859856375974368\n",
            "Independent (H0 holds true)\n",
            "\n",
            "hair dye\n",
            "p value is 0.9980100227689874\n",
            "Independent (H0 holds true)\n",
            "\n"
          ]
        },
        {
          "name": "stderr",
          "output_type": "stream",
          "text": [
            "C:\\Users\\jonat\\AppData\\Local\\Temp\\ipykernel_72568\\1564923334.py:20: FutureWarning: A value is trying to be set on a copy of a DataFrame or Series through chained assignment using an inplace method.\n",
            "The behavior will change in pandas 3.0. This inplace method will never work because the intermediate object on which we are setting values always behaves as a copy.\n",
            "\n",
            "For example, when doing 'df[col].method(value, inplace=True)', try using 'df.method({col: value}, inplace=True)' or df[col] = df[col].method(value) instead, to perform the operation inplace on the original object.\n",
            "\n",
            "\n",
            "  df[i].fillna(df[i].mode()[0], inplace=True)\n"
          ]
        }
      ],
      "source": [
        "primed = pd.concat([max23,far23])\n",
        "primed = clean_data(primed)\n",
        "primed[\"primed\"] = ~(primed[\"compassion primer\"].isna())\n",
        "\n",
        "for i in aita_questions:\n",
        "    data = pd.crosstab(primed[\"primed\"], primed[i])\n",
        "    stat, p, dof, expected = chi2_contingency(data)\n",
        "\n",
        "    print(i)\n",
        "\n",
        "    alpha = 0.05\n",
        "    print(\"p value is \" + str(p))\n",
        "    if p <= alpha:\n",
        "        print('Dependent (reject H0)')\n",
        "    else:\n",
        "        print('Independent (H0 holds true)')\n",
        "    print()"
      ]
    },
    {
      "cell_type": "markdown",
      "metadata": {},
      "source": [
        "Based on chi-squared tests, the doctor question, the trust fund question, and the investigator question were affected by the priming question.\n",
        "\n",
        "Only the 2023 surveys were used because swapping gender could have had an effect on some questions."
      ]
    },
    {
      "cell_type": "markdown",
      "metadata": {
        "id": "U_T1ZEsJ4ite"
      },
      "source": [
        "4. Does swapping genders have a stastically significant effect on any questions? If so, which ones?"
      ]
    },
    {
      "cell_type": "markdown",
      "metadata": {
        "id": "COW6Bnjl4ycy"
      },
      "source": [
        "Your answer here:"
      ]
    },
    {
      "cell_type": "code",
      "execution_count": 7,
      "metadata": {
        "id": "VCdKSTxi4z5e"
      },
      "outputs": [
        {
          "name": "stdout",
          "output_type": "stream",
          "text": [
            "doctor\n",
            "p value is 0.0001502769448174831\n",
            "Dependent (reject H0)\n",
            "\n"
          ]
        },
        {
          "name": "stderr",
          "output_type": "stream",
          "text": [
            "C:\\Users\\jonat\\AppData\\Local\\Temp\\ipykernel_72568\\1564923334.py:20: FutureWarning: A value is trying to be set on a copy of a DataFrame or Series through chained assignment using an inplace method.\n",
            "The behavior will change in pandas 3.0. This inplace method will never work because the intermediate object on which we are setting values always behaves as a copy.\n",
            "\n",
            "For example, when doing 'df[col].method(value, inplace=True)', try using 'df.method({col: value}, inplace=True)' or df[col] = df[col].method(value) instead, to perform the operation inplace on the original object.\n",
            "\n",
            "\n",
            "  df[i].fillna(df[i].mode()[0], inplace=True)\n"
          ]
        },
        {
          "name": "stdout",
          "output_type": "stream",
          "text": [
            "reading\n",
            "p value is 0.09967030030768555\n",
            "Independent (H0 holds true)\n",
            "\n",
            "trust fund\n",
            "p value is 0.05534947939440297\n",
            "Independent (H0 holds true)\n",
            "\n",
            "private school\n",
            "p value is 1.2148252597400195e-06\n",
            "Dependent (reject H0)\n",
            "\n",
            "cat\n",
            "p value is 0.12209473637728271\n",
            "Independent (H0 holds true)\n",
            "\n",
            "burned food\n",
            "p value is 0.26736252031172136\n",
            "Independent (H0 holds true)\n",
            "\n",
            "flight\n",
            "p value is 0.15320832276214544\n",
            "Independent (H0 holds true)\n",
            "\n",
            "child support\n",
            "p value is 0.5112878353214236\n",
            "Independent (H0 holds true)\n",
            "\n",
            "investigation\n",
            "p value is 0.713185166072029\n",
            "Independent (H0 holds true)\n",
            "\n",
            "expensive school\n",
            "p value is 0.22845379155035828\n",
            "Independent (H0 holds true)\n",
            "\n",
            "in law\n",
            "p value is 3.8521740681221876e-06\n",
            "Dependent (reject H0)\n",
            "\n",
            "lgbtq\n",
            "p value is 0.5229099837704329\n",
            "Independent (H0 holds true)\n",
            "\n",
            "drinking\n",
            "p value is 0.13655493011945546\n",
            "Independent (H0 holds true)\n",
            "\n",
            "hair dye\n",
            "p value is 0.007159654815642056\n",
            "Dependent (reject H0)\n",
            "\n"
          ]
        }
      ],
      "source": [
        "max23[\"q gender\"] = [\"Female\" for i in range(len(max23))]\n",
        "far23[\"q gender\"] = [\"Female\" for i in range(len(far23))]\n",
        "dat24[\"q gender\"] = [\"Male\" for i in range(len(dat24))]\n",
        "max25[\"q gender\"] = [\"Male\" for i in range(len(max25))]\n",
        "\n",
        "gender = pd.concat([max23,far23, dat24, max25])\n",
        "gender = clean_data(gender)\n",
        "\n",
        "for i in aita_questions:\n",
        "    data = pd.crosstab(gender[\"q gender\"], gender[i])\n",
        "    stat, p, dof, expected = chi2_contingency(data)\n",
        "\n",
        "    print(i)\n",
        "\n",
        "    alpha = 0.05\n",
        "    print(\"p value is \" + str(p))\n",
        "    if p <= alpha:\n",
        "        print('Dependent (reject H0)')\n",
        "    else:\n",
        "        print('Independent (H0 holds true)')\n",
        "    print()"
      ]
    },
    {
      "cell_type": "markdown",
      "metadata": {},
      "source": [
        "The gender(s) used in the question affected the doctor question, private school question, and hair dye question for alpha=0.05.\n",
        "\n",
        "There was a typo for the gender swap on the in-law question suggesting that the significant other of the parent-in-law ought to be paying for the in-law's child support, which was not the original intent of the question. This typo is likely the reason for the very low p-value."
      ]
    },
    {
      "cell_type": "markdown",
      "metadata": {
        "id": "7eeMm4uJ5Jxb"
      },
      "source": [
        "5. What hour of the day were most of the surveys completed?"
      ]
    },
    {
      "cell_type": "markdown",
      "metadata": {
        "id": "uyR8ZzCd5K5G"
      },
      "source": [
        "Your answer here:"
      ]
    },
    {
      "cell_type": "code",
      "execution_count": 8,
      "metadata": {
        "id": "IvigDfXw5KSz"
      },
      "outputs": [
        {
          "data": {
            "text/plain": [
              "time\n",
              "9     69\n",
              "21    53\n",
              "18    42\n",
              "16    40\n",
              "17    36\n",
              "19    29\n",
              "11    25\n",
              "22    23\n",
              "10    22\n",
              "23    17\n",
              "13    16\n",
              "14    14\n",
              "12    14\n",
              "20    14\n",
              "15    13\n",
              "0      7\n",
              "1      7\n",
              "2      4\n",
              "8      3\n",
              "7      2\n",
              "4      1\n",
              "Name: count, dtype: int64"
            ]
          },
          "execution_count": 8,
          "metadata": {},
          "output_type": "execute_result"
        }
      ],
      "source": [
        "time = pd.concat([max23,far23, dat24, max25])\n",
        "t = pd.to_datetime(time[\"time\"])\n",
        "t.dt.hour.value_counts()"
      ]
    },
    {
      "cell_type": "markdown",
      "metadata": {},
      "source": [
        "The most surveys were completed at 9a.m."
      ]
    },
    {
      "cell_type": "markdown",
      "metadata": {
        "id": "tqfMUa1W5rv4"
      },
      "source": [
        "8. Which question this semseter was most strongly influenced by respondants religious views?"
      ]
    },
    {
      "cell_type": "markdown",
      "metadata": {
        "id": "kspg2Uys5pEV"
      },
      "source": [
        "Your answer:"
      ]
    },
    {
      "cell_type": "code",
      "execution_count": 9,
      "metadata": {
        "id": "VFP5-UbP5oP2"
      },
      "outputs": [
        {
          "name": "stdout",
          "output_type": "stream",
          "text": [
            "doctor\n",
            "p value is 0.581612668386988\n",
            "Independent (H0 holds true)\n",
            "\n",
            "reading\n",
            "p value is 0.5591016343511617\n",
            "Independent (H0 holds true)\n",
            "\n",
            "trust fund\n",
            "p value is 0.38064807077574403\n",
            "Independent (H0 holds true)\n",
            "\n",
            "private school\n",
            "p value is 0.28436762364819324\n",
            "Independent (H0 holds true)\n",
            "\n",
            "cat\n",
            "p value is 0.8610221549430153\n",
            "Independent (H0 holds true)\n",
            "\n",
            "burned food\n",
            "p value is 0.9606511745845083\n",
            "Independent (H0 holds true)\n",
            "\n",
            "flight\n",
            "p value is 0.5414739704645541\n",
            "Independent (H0 holds true)\n",
            "\n",
            "child support\n",
            "p value is 0.643482823232413\n",
            "Independent (H0 holds true)\n",
            "\n",
            "investigation\n",
            "p value is 0.9805764664776445\n",
            "Independent (H0 holds true)\n",
            "\n",
            "expensive school\n",
            "p value is 0.5637248237468016\n",
            "Independent (H0 holds true)\n",
            "\n",
            "in law\n",
            "p value is 0.8555427766201652\n",
            "Independent (H0 holds true)\n",
            "\n",
            "lgbtq\n",
            "p value is 0.031236046051202344\n",
            "Dependent (reject H0)\n",
            "\n",
            "drinking\n",
            "p value is 0.7594495732969258\n",
            "Independent (H0 holds true)\n",
            "\n",
            "hair dye\n",
            "p value is 0.7859192677357157\n",
            "Independent (H0 holds true)\n",
            "\n"
          ]
        },
        {
          "name": "stderr",
          "output_type": "stream",
          "text": [
            "C:\\Users\\jonat\\AppData\\Local\\Temp\\ipykernel_72568\\1564923334.py:20: FutureWarning: A value is trying to be set on a copy of a DataFrame or Series through chained assignment using an inplace method.\n",
            "The behavior will change in pandas 3.0. This inplace method will never work because the intermediate object on which we are setting values always behaves as a copy.\n",
            "\n",
            "For example, when doing 'df[col].method(value, inplace=True)', try using 'df.method({col: value}, inplace=True)' or df[col] = df[col].method(value) instead, to perform the operation inplace on the original object.\n",
            "\n",
            "\n",
            "  df[i].fillna(df[i].mode()[0], inplace=True)\n"
          ]
        }
      ],
      "source": [
        "rel = pd.concat([max25])\n",
        "rel = clean_data(rel)\n",
        "\n",
        "for i in aita_questions:\n",
        "    data = pd.crosstab(rel[\"religion\"], rel[i])\n",
        "    stat, p, dof, expected = chi2_contingency(data)\n",
        "\n",
        "    print(i)\n",
        "\n",
        "    alpha = 0.05\n",
        "    print(\"p value is \" + str(p))\n",
        "    if p <= alpha:\n",
        "        print('Dependent (reject H0)')\n",
        "    else:\n",
        "        print('Independent (H0 holds true)')\n",
        "    print()"
      ]
    },
    {
      "cell_type": "markdown",
      "metadata": {},
      "source": [
        "The question most influenced by religiousness this semester was the question regarding donating money to an LGBTQ charity, p=0.0312 by a chi-squared test."
      ]
    },
    {
      "cell_type": "markdown",
      "metadata": {
        "id": "2ZKeq_dj5sdB"
      },
      "source": [
        "9. Are there any questions where graduate students had a stastically signifant difference from undergraduate students? If so, which ones?"
      ]
    },
    {
      "cell_type": "markdown",
      "metadata": {
        "id": "E2zunv5355TO"
      },
      "source": [
        "Your answer:"
      ]
    },
    {
      "cell_type": "code",
      "execution_count": 10,
      "metadata": {
        "id": "NZUYt8q756fH"
      },
      "outputs": [
        {
          "name": "stderr",
          "output_type": "stream",
          "text": [
            "C:\\Users\\jonat\\AppData\\Local\\Temp\\ipykernel_72568\\1564923334.py:20: FutureWarning: A value is trying to be set on a copy of a DataFrame or Series through chained assignment using an inplace method.\n",
            "The behavior will change in pandas 3.0. This inplace method will never work because the intermediate object on which we are setting values always behaves as a copy.\n",
            "\n",
            "For example, when doing 'df[col].method(value, inplace=True)', try using 'df.method({col: value}, inplace=True)' or df[col] = df[col].method(value) instead, to perform the operation inplace on the original object.\n",
            "\n",
            "\n",
            "  df[i].fillna(df[i].mode()[0], inplace=True)\n"
          ]
        },
        {
          "name": "stdout",
          "output_type": "stream",
          "text": [
            "year\n",
            "Junior              227\n",
            "Sophomore           121\n",
            "Senior               69\n",
            "Graduate Student     24\n",
            "Other                 5\n",
            "Freshman              5\n",
            "Name: count, dtype: int64\n",
            "\n",
            "doctor\n",
            "p value is 0.1775979934623674\n",
            "Independent (H0 holds true)\n",
            "\n",
            "reading\n",
            "p value is 0.38409704411374296\n",
            "Independent (H0 holds true)\n",
            "\n",
            "trust fund\n",
            "p value is 0.16746382047080244\n",
            "Independent (H0 holds true)\n",
            "\n",
            "private school\n",
            "p value is 0.2363654212065533\n",
            "Independent (H0 holds true)\n",
            "\n",
            "cat\n",
            "p value is 0.8848478211598865\n",
            "Independent (H0 holds true)\n",
            "\n",
            "burned food\n",
            "p value is 0.8820087033014964\n",
            "Independent (H0 holds true)\n",
            "\n",
            "flight\n",
            "p value is 0.8483799550699007\n",
            "Independent (H0 holds true)\n",
            "\n",
            "child support\n",
            "p value is 0.05464089861910975\n",
            "Independent (H0 holds true)\n",
            "\n",
            "investigation\n",
            "p value is 0.6608254089807277\n",
            "Independent (H0 holds true)\n",
            "\n",
            "expensive school\n",
            "p value is 0.2829710998102689\n",
            "Independent (H0 holds true)\n",
            "\n",
            "in law\n",
            "p value is 0.13421075984321054\n",
            "Independent (H0 holds true)\n",
            "\n",
            "lgbtq\n",
            "p value is 0.5128063873593015\n",
            "Independent (H0 holds true)\n",
            "\n",
            "drinking\n",
            "p value is 0.46092710094461087\n",
            "Independent (H0 holds true)\n",
            "\n",
            "hair dye\n",
            "p value is 0.5992532299068422\n",
            "Independent (H0 holds true)\n",
            "\n"
          ]
        }
      ],
      "source": [
        "year = pd.concat([max23,far23, dat24, max25])\n",
        "year = clean_data(year)\n",
        "\n",
        "print(year[\"year\"].value_counts())\n",
        "print()\n",
        "\n",
        "for i in aita_questions:\n",
        "    data = pd.crosstab(year[\"year\"], year[i])\n",
        "    stat, p, dof, expected = chi2_contingency(data)\n",
        "\n",
        "    print(i)\n",
        "\n",
        "    alpha = 0.05\n",
        "    print(\"p value is \" + str(p))\n",
        "    if p <= alpha:\n",
        "        print('Dependent (reject H0)')\n",
        "    else:\n",
        "        print('Independent (H0 holds true)')\n",
        "    print()"
      ]
    },
    {
      "cell_type": "markdown",
      "metadata": {},
      "source": [
        "No, but there are also only 24 graduate student responses, so there may not be enough data."
      ]
    },
    {
      "cell_type": "markdown",
      "metadata": {
        "id": "IZxV6XRq56r6"
      },
      "source": [
        "10. Bin the responses by morning, afternoon, evening and night. Do these catagories have a statistically significant effect on any questions? If so, which ones?"
      ]
    },
    {
      "cell_type": "markdown",
      "metadata": {
        "id": "uiE-1V3j6BhW"
      },
      "source": [
        "Your answer:"
      ]
    },
    {
      "cell_type": "code",
      "execution_count": 25,
      "metadata": {
        "id": "xUZasWOf6Gfs"
      },
      "outputs": [
        {
          "name": "stdout",
          "output_type": "stream",
          "text": [
            "doctor\n",
            "p value is 0.04604756913414801\n",
            "Dependent (reject H0)\n",
            "\n",
            "reading\n",
            "p value is 0.8727132831764379\n",
            "Independent (H0 holds true)\n",
            "\n",
            "trust fund\n",
            "p value is 0.05066403913775114\n",
            "Independent (H0 holds true)\n",
            "\n",
            "private school\n",
            "p value is 0.12185422263033525\n",
            "Independent (H0 holds true)\n",
            "\n",
            "cat\n",
            "p value is 0.48058654528442735\n",
            "Independent (H0 holds true)\n",
            "\n",
            "burned food\n",
            "p value is 0.044005630380098984\n",
            "Dependent (reject H0)\n",
            "\n",
            "flight\n",
            "p value is 0.38650480893941036\n",
            "Independent (H0 holds true)\n",
            "\n",
            "child support\n",
            "p value is 0.06774350189758405\n",
            "Independent (H0 holds true)\n",
            "\n",
            "investigation\n",
            "p value is 0.47736631518175365\n",
            "Independent (H0 holds true)\n",
            "\n",
            "expensive school\n",
            "p value is 0.03618779507336626\n",
            "Dependent (reject H0)\n",
            "\n",
            "in law\n",
            "p value is 0.0002482691685889392\n",
            "Dependent (reject H0)\n",
            "\n",
            "lgbtq\n",
            "p value is 0.41543057475717843\n",
            "Independent (H0 holds true)\n",
            "\n",
            "drinking\n",
            "p value is 0.8913854659766927\n",
            "Independent (H0 holds true)\n",
            "\n",
            "hair dye\n",
            "p value is 0.5420371579891505\n",
            "Independent (H0 holds true)\n",
            "\n"
          ]
        }
      ],
      "source": [
        "time = pd.concat([max23,far23, dat24, max25])\n",
        "t = pd.to_datetime(time[\"time\"])\n",
        "time[\"hour\"] = t.dt.hour\n",
        "time[\"tod\"] = time[\"hour\"].apply(lambda x: \"morning\" if x in range(6,12) else (\"afternoon\" if x in range(12,18) else (\"evening\" if x in range(18,21) else \"night\")))\n",
        "\n",
        "for i in aita_questions:\n",
        "    data = pd.crosstab(time[\"tod\"], time[i])\n",
        "    stat, p, dof, expected = chi2_contingency(data)\n",
        "\n",
        "    print(i)\n",
        "\n",
        "    alpha = 0.05\n",
        "    print(\"p value is \" + str(p))\n",
        "    if p <= alpha:\n",
        "        print('Dependent (reject H0)')\n",
        "    else:\n",
        "        print('Independent (H0 holds true)')\n",
        "    print()"
      ]
    },
    {
      "cell_type": "code",
      "execution_count": 34,
      "metadata": {},
      "outputs": [
        {
          "data": {
            "text/plain": [
              "[('morning', 'afternoon'),\n",
              " ('morning', 'evening'),\n",
              " ('morning', 'night'),\n",
              " ('afternoon', 'evening'),\n",
              " ('afternoon', 'night'),\n",
              " ('evening', 'night')]"
            ]
          },
          "execution_count": 34,
          "metadata": {},
          "output_type": "execute_result"
        }
      ],
      "source": [
        "from itertools import combinations\n",
        "\n",
        "times = [\"morning\", \"afternoon\", \"evening\", \"night\"]\n",
        "\n",
        "uniq = list(combinations(times, 2))\n",
        "uniq"
      ]
    },
    {
      "cell_type": "code",
      "execution_count": 38,
      "metadata": {},
      "outputs": [
        {
          "name": "stdout",
          "output_type": "stream",
          "text": [
            "doctor, afternoon, night\n",
            "\tp value is 0.003869563936419244\n",
            "doctor, evening, night\n",
            "\tp value is 0.03674917540585698\n",
            "\n",
            "burned food, afternoon, evening\n",
            "\tp value is 0.033544404168203104\n",
            "burned food, evening, night\n",
            "\tp value is 0.0018820917543328022\n",
            "\n",
            "expensive school, afternoon, night\n",
            "\tp value is 0.010452054456619396\n",
            "\n",
            "in law, morning, afternoon\n",
            "\tp value is 0.0013242391165011224\n",
            "in law, morning, evening\n",
            "\tp value is 0.012446367868229368\n",
            "in law, morning, night\n",
            "\tp value is 6.005081225593726e-05\n",
            "\n"
          ]
        }
      ],
      "source": [
        "for i in [\"doctor\", \"burned food\", \"expensive school\", \"in law\"]:\n",
        "        for j, k in uniq:\n",
        "                time_limited = time[time[\"tod\"].isin([j, k])]\n",
        "                data = pd.crosstab(time_limited[\"tod\"], time_limited[i])\n",
        "                stat, p, dof, expected = chi2_contingency(data)\n",
        "\n",
        "                alpha = 0.05\n",
        "                if p <= alpha:\n",
        "                    print(f\"{i}, {j}, {k}\")\n",
        "                    print(\"\\tp value is \" + str(p))\n",
        "        print()"
      ]
    },
    {
      "cell_type": "markdown",
      "metadata": {},
      "source": [
        "For the doctor question, burned food question, expensive school question it seems that the time has an effect. The in-law question being affected could be a product of the previously mentioned typo."
      ]
    }
  ],
  "metadata": {
    "colab": {
      "provenance": []
    },
    "kernelspec": {
      "display_name": "Python 3",
      "name": "python3"
    },
    "language_info": {
      "codemirror_mode": {
        "name": "ipython",
        "version": 3
      },
      "file_extension": ".py",
      "mimetype": "text/x-python",
      "name": "python",
      "nbconvert_exporter": "python",
      "pygments_lexer": "ipython3",
      "version": "3.12.8"
    }
  },
  "nbformat": 4,
  "nbformat_minor": 0
}
